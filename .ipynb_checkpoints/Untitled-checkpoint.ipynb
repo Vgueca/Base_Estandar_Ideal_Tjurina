{
 "cells": [
  {
   "cell_type": "code",
   "execution_count": 5,
   "id": "9cf78b71",
   "metadata": {},
   "outputs": [],
   "source": [
    "R = PolynomialRing(CC,'x,y')"
   ]
  },
  {
   "cell_type": "code",
   "execution_count": 7,
   "id": "e953885d",
   "metadata": {},
   "outputs": [
    {
     "data": {
      "text/plain": [
       "(x, y)"
      ]
     },
     "execution_count": 7,
     "metadata": {},
     "output_type": "execute_result"
    }
   ],
   "source": [
    "Tjurina = R.ideal([])"
   ]
  }
 ],
 "metadata": {
  "kernelspec": {
   "display_name": "SageMath 9.5",
   "language": "sage",
   "name": "sagemath"
  },
  "language_info": {
   "codemirror_mode": {
    "name": "ipython",
    "version": 3
   },
   "file_extension": ".py",
   "mimetype": "text/x-python",
   "name": "python",
   "nbconvert_exporter": "python",
   "pygments_lexer": "ipython3",
   "version": "3.10.12"
  }
 },
 "nbformat": 4,
 "nbformat_minor": 5
}
