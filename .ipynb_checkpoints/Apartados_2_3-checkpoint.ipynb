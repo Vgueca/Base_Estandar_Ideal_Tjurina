{
 "cells": [
  {
   "cell_type": "markdown",
   "id": "882e9149-8e8f-4700-87ef-4371a18b2501",
   "metadata": {},
   "source": [
    "# Hoja 3: Bases estándar\n",
    "> "
   ]
  },
  {
   "cell_type": "markdown",
   "id": "7a2ebc26-7d8f-4be5-b163-6a25b838249a",
   "metadata": {},
   "source": [
    "### Ejercicio: Sea $R = \\mathbb{C}[x,y]$ con el orden monomial $>_{dp}$. Tomamos el polinomio $f(x,y) = y^5 - x^7 + ax^3 y^3 + b x^4 y^4$ con $a,b \\in \\mathbb{C}$. Se denomina ideal de Tjurina $(J)_f$ de $f$ al ideal\n",
    "$$\n",
    "    \\mathcal{J}_f := \\left< f,  \\partial f / \\partial x, \\partial f / \\partial y\\right>\n",
    "$$"
   ]
  },
  {
   "cell_type": "markdown",
   "id": "e6e22873-b759-48b6-b2f1-f94a598f415c",
   "metadata": {},
   "source": [
    "#### 1. Usando el algoritmo 1, calcula las posibles bases estándar de $\\mathcal{J}$ en función del valor de los parámetros $a$ y $b$."
   ]
  },
  {
   "cell_type": "markdown",
   "id": "86b464f6-125b-42b9-86af-14bb1f15b88f",
   "metadata": {},
   "source": [
    "Comenzamos cargando nuestra librería."
   ]
  },
  {
   "cell_type": "code",
   "execution_count": 1,
   "id": "3c3bea5c-f2c2-4747-96a8-942200c66027",
   "metadata": {},
   "outputs": [
    {
     "data": {
      "text/plain": [
       "// ** loaded /usr/bin/../share/singular/LIB/all.lib (4.1.1.0,Jan_2018)\n",
       "// ** loaded /usr/bin/../share/singular/LIB/ratgb.lib (4.1.2.0,Feb_2019)\n",
       "// ** loaded /usr/bin/../share/singular/LIB/qmatrix.lib (4.1.2.0,Feb_2019)\n",
       "// ** loaded /usr/bin/../share/singular/LIB/purityfiltration.lib (4.1.2.0,Feb_2019)\n",
       "// ** loaded /usr/bin/../share/singular/LIB/perron.lib (4.1.2.0,Feb_2019)\n",
       "// ** loaded /usr/bin/../share/singular/LIB/nctools.lib (4.1.2.0,Feb_2019)\n",
       "// ** loaded /usr/bin/../share/singular/LIB/ncpreim.lib (4.1.2.0,Feb_2019)\n",
       "// ** loaded /usr/bin/../share/singular/LIB/dmodloc.lib (4.1.2.0,Feb_2019)\n",
       "// ** loaded /usr/bin/../share/singular/LIB/ncModslimgb.lib (4.1.3.0,Apr_2020)\n",
       "// ** loaded /usr/bin/../share/singular/LIB/resources.lib (4.1.2.0,Feb_2019)\n",
       "// ** loaded /usr/bin/../share/singular/LIB/parallel.lib (4.1.2.0,Feb_2019)\n",
       "// ** loaded /usr/bin/../share/singular/LIB/tasks.lib (4.1.2.0,Feb_2019)\n",
       "// ** loaded /usr/bin/../share/singular/LIB/nchomolog.lib (4.1.2.0,Feb_2019)\n",
       "// ** loaded /usr/bin/../share/singular/LIB/ncfactor.lib (4.2.0.1,Apr_2021)\n",
       "// ** loaded /usr/bin/../share/singular/LIB/ncdecomp.lib (4.1.2.0,Feb_2019)\n",
       "// ** loaded /usr/bin/../share/singular/LIB/ncalg.lib (4.1.2.0,Feb_2019)\n",
       "// ** loaded /usr/bin/../share/singular/LIB/ncall.lib (4.1.2.0,Feb_2019)\n",
       "// ** loaded /usr/bin/../share/singular/LIB/involut.lib (4.1.2.0,Feb_2019)\n",
       "// ** loaded /usr/bin/../share/singular/LIB/gkdim.lib (4.1.2.0,Feb_2019)\n",
       "// ** loaded /usr/bin/../share/singular/LIB/freegb.lib (4.1.2.0,Feb_2019)\n",
       "// ** loaded /usr/bin/../share/singular/LIB/fpaprops.lib (4.1.2.0,Feb_2019)\n",
       "// ** loaded /usr/bin/../share/singular/LIB/fpalgebras.lib (4.1.2.0,Feb_2019)\n",
       "// ** loaded /usr/bin/../share/singular/LIB/fpadim.lib (4.1.2.0,Feb_2019)\n",
       "// ** loaded /usr/bin/../share/singular/LIB/dmodideal.lib (4.1.2.0,Feb_2019)\n",
       "// ** loaded /usr/bin/../share/singular/LIB/dmodvar.lib (4.1.2.0,Feb_2019)\n",
       "// ** loaded /usr/bin/../share/singular/LIB/dmodapp.lib (4.1.3.0,Mar_2020)\n",
       "// ** loaded /usr/bin/../share/singular/LIB/dmod.lib (4.1.2.0,Feb_2019)\n",
       "// ** loaded /usr/bin/../share/singular/LIB/central.lib (4.1.2.0,Feb_2019)\n",
       "// ** loaded /usr/bin/../share/singular/LIB/bfun.lib (4.1.2.0,Feb_2019)\n",
       "// ** loaded /usr/bin/../share/singular/LIB/bimodules.lib (4.1.2.0,Feb_2019)\n",
       "// ** loaded /usr/bin/../share/singular/LIB/zeroset.lib (4.1.2.0,Feb_2019)\n",
       "// ** loaded /usr/bin/../share/singular/LIB/weierstr.lib (4.1.2.0,Feb_2019)\n",
       "// ** loaded /usr/bin/../share/singular/LIB/triang.lib (4.1.2.0,Feb_2019)\n",
       "// ** loaded /usr/bin/../share/singular/LIB/toric.lib (4.2.1.3,Dec_2021)\n",
       "// ** loaded /usr/bin/../share/singular/LIB/teachstd.lib (4.1.2.0,Feb_2019)\n",
       "// ** loaded /usr/bin/../share/singular/LIB/surfex.lib (4.1.2.0,Feb_2019)\n",
       "// ** loaded /usr/bin/../share/singular/LIB/surfacesignature.lib (4.1.2.0,Feb_2019)\n",
       "// ** loaded /usr/bin/../share/singular/LIB/surf_jupyter.lib (4.1.2.0,Feb_2019)\n",
       "// ** loaded /usr/bin/../share/singular/LIB/surf.lib (4.2.1.0,Nov_2021)\n",
       "// ** loaded /usr/bin/../share/singular/LIB/stratify.lib (4.1.2.0,Feb_2019)\n",
       "// ** loaded /usr/bin/../share/singular/LIB/stanleyreisner.lib (4.2.0.0,Dec_2020)\n",
       "   skipping text from ` `// ** loaded /usr/bin/../share/singular/LIB/spectrum.lib (4.1.2.0,Feb_2019)\n",
       "// ** loaded /usr/bin/../share/singular/LIB/spcurve.lib (4.2.1.1,Jul_2021)\n",
       "// ** loaded /usr/bin/../share/singular/LIB/solve.lib (4.1.2.0,Feb_2019)\n",
       "// ** loaded /usr/bin/../share/singular/LIB/signcond.lib (4.1.2.0,Feb_2019)\n",
       "// ** loaded /usr/bin/../share/singular/LIB/sing4ti2.lib (4.2.1,Nov_2021)\n",
       "// ** loaded /usr/bin/../share/singular/LIB/sing.lib (4.2.0.2,May_2021)\n",
       "// ** loaded /usr/bin/../share/singular/LIB/sheafcoh.lib (4.1.2.0,Feb_2019)\n",
       "// ** loaded /usr/bin/../share/singular/LIB/sagbi.lib (4.1.2.0,Feb_2019)\n",
       "// ** loaded /usr/bin/../share/singular/LIB/rootsur.lib (4.1.2.0,Feb_2019)\n",
       "// ** loaded /usr/bin/../share/singular/LIB/rootsmr.lib (4.1.2.0,Feb_2019)\n",
       "// ** loaded /usr/bin/../share/singular/LIB/rinvar.lib (4.1.2.0,Feb_2019)\n",
       "// ** loaded /usr/bin/../share/singular/LIB/ringgb.lib (4.2.0.0,Dec_2020)\n",
       "// ** loaded /usr/bin/../share/singular/LIB/ring.lib (4.1.2.0,Feb_2019)\n",
       "// ** loaded /usr/bin/../share/singular/LIB/reszeta.lib (4.1.2.0,Feb_2019)\n",
       "// ** loaded /usr/bin/../share/singular/LIB/resolve.lib (4.1.2.0,Feb_2019)\n",
       "// ** loaded /usr/bin/../share/singular/LIB/resjung.lib (4.1.2.0,Feb_2019)\n",
       "// ** loaded /usr/bin/../share/singular/LIB/resgraph.lib (4.1.2.0,Feb_2019)\n",
       "// ** loaded /usr/bin/../share/singular/LIB/resbinomial.lib (4.1.2.0,Feb_2019)\n",
       "// ** loaded /usr/bin/../share/singular/LIB/reesclos.lib (4.1.2.0,Feb_2019)\n",
       "// ** loaded /usr/bin/../share/singular/LIB/locnormal.lib (4.1.2.0,Feb_2019)\n",
       "// ** loaded /usr/bin/../share/singular/LIB/redcgs.lib (4.2.0.0,Dec_2020)\n",
       "// ** loaded /usr/bin/../share/singular/LIB/realrad.lib (4.1.2.0,Feb_2019)\n",
       "// ** loaded /usr/bin/../share/singular/LIB/realclassify.lib (4.2.1.0,Jul_2021)\n",
       " error at token `)`\n",
       "// ** loaded /usr/bin/../share/singular/LIB/rootisolation.lib (4.2.1.0,Jul_2021)\n",
       "// ** loaded /usr/bin/../share/singular/LIB/classify2.lib (4.1.2.0,Feb_2019)\n",
       "// ** loaded /usr/bin/../share/singular/LIB/polyclass.lib (4.2.0.0,Dec_2020)\n",
       "// ** loaded /usr/bin/../share/singular/LIB/random.lib (4.1.2.0,Feb_2019)\n",
       "// ** loaded /usr/bin/../share/singular/LIB/qhmoduli.lib (4.1.2.0,Feb_2019)\n",
       "// ** loaded /usr/bin/../share/singular/LIB/primitiv.lib (4.1.2.0,Feb_2019)\n",
       "// ** loaded /usr/bin/../share/singular/LIB/primdecint.lib (4.1.2.0,Feb_2019)\n",
       "// ** loaded /usr/bin/../share/singular/LIB/primdec.lib (4.2.1.1,Jul_2021)\n",
       "// ** loaded /usr/bin/../share/singular/LIB/presolve.lib (4.1.2.0,Feb_2019)\n",
       "// ** loaded /usr/bin/../share/singular/LIB/polylib.lib (4.2.0.0,Dec_2020)\n",
       "// ** loaded /usr/bin/../share/singular/LIB/pointid.lib (4.1.2.0,Feb_2019)\n",
       "// ** loaded /usr/bin/../share/singular/LIB/phindex.lib (4.1.2.0,Feb_2019)\n",
       "// ** loaded /usr/bin/../share/singular/LIB/pfd.lib (4.1.3.2,Aug_2020)\n",
       "// ** loaded /usr/bin/../share/singular/LIB/paraplanecurves.lib (4.1.2.0,Feb_2019)\n",
       "// ** loaded /usr/bin/../share/singular/LIB/ntsolve.lib (4.1.2.0,Feb_2019)\n",
       "// ** loaded /usr/bin/../share/singular/LIB/normaliz.lib (4.1.2.0,Feb_2019)\n",
       "// ** loaded /usr/bin/../share/singular/LIB/normal.lib (4.1.2.0,Feb_2019)\n",
       "// ** loaded /usr/bin/../share/singular/LIB/curveInv.lib (4.1.2.0,Feb_2019)\n",
       "// ** loaded /usr/bin/../share/singular/LIB/noether.lib (4.1.2.0,Feb_2019)\n",
       "// ** loaded /usr/bin/../share/singular/LIB/nfmodsyz.lib (4.1.2.0,Feb_2019)\n",
       "// ** loaded /usr/bin/../share/singular/LIB/nfmodstd.lib (4.1.2.0,Feb_2019)\n",
       "// ** loaded /usr/bin/../share/singular/LIB/mregular.lib (4.1.2.0,Feb_2019)\n",
       "// ** loaded /usr/bin/../share/singular/LIB/mprimdec.lib (4.1.2.0,Feb_2019)\n",
       "// ** loaded /usr/bin/../share/singular/LIB/monomialideal.lib (4.1.2.0,Feb_2019)\n",
       "// ** loaded /usr/bin/../share/singular/LIB/mondromy.lib (4.1.2.0,Feb_2019)\n",
       "// ** loaded /usr/bin/../share/singular/LIB/modstd.lib (4.2.0.0,Feb_2020)\n",
       "   skipping text from ` ` error at token `)`\n",
       "// ** loaded /usr/bin/../share/singular/LIB/modular.lib (4.2.0.0,Dec_2020)\n",
       "// ** loaded /usr/bin/../share/singular/LIB/modnormal.lib (4.1.2.0,Feb_2019)\n",
       "// ** loaded /usr/bin/../share/singular/LIB/moddiq.lib (4.1.2.0,Feb_2020)\n",
       "// ** loaded /usr/bin/../share/singular/LIB/matrix.lib (4.1.2.0,Feb_2019)\n",
       "// ** loaded /usr/bin/../share/singular/LIB/makedbm.lib (4.1.2.0,Feb_2019)\n",
       "// ** loaded /usr/bin/../share/singular/LIB/linalg.lib (4.1.2.0,Feb_2019)\n",
       "// ** loaded /usr/bin/../share/singular/LIB/latex.lib (4.1.2.0,Feb_2019)\n",
       "// ** loaded /usr/bin/../share/singular/LIB/kskernel.lib (4.1.2.0,Feb_2019)\n",
       "// ** loaded /usr/bin/../share/singular/LIB/jacobson.lib (4.1.2.0,Feb_2019)\n",
       "// ** loaded /usr/bin/../share/singular/LIB/intprog.lib (4.2.1.3,Dec_2021)\n",
       "// ** loaded /usr/bin/../share/singular/LIB/inout.lib (4.1.2.0,Feb_2019)\n",
       "// ** loaded /usr/bin/../share/singular/LIB/integralbasis.lib (4.1.2.0,Feb_2019)\n",
       "// ** loaded /usr/bin/../share/singular/LIB/hyperel.lib (4.1.2.0,Feb_2019)\n",
       "// ** loaded /usr/bin/../share/singular/LIB/homolog.lib (4.1.2.0,Feb_2019)\n",
       "// ** loaded /usr/bin/../share/singular/LIB/hnoether.lib (4.1.2.0,Feb_2019)\n",
       "// ** loaded /usr/bin/../share/singular/LIB/grwalk.lib (4.1.2.0,Feb_2019)\n",
       "// ** loaded /usr/bin/../share/singular/LIB/groups.lib (4.1.2.0,Feb_2019)\n",
       "// ** loaded /usr/bin/../share/singular/LIB/grobcov.lib (4.2.0,February_2021)\n",
       "// ** loaded /usr/bin/../share/singular/LIB/graphics.lib (4.1.2.0,Feb_2019)\n",
       "// ** loaded /usr/bin/../share/singular/LIB/gmssing.lib (4.1.2.0,Feb_2019)\n",
       "// ** loaded /usr/bin/../share/singular/LIB/gmspoly.lib (4.1.2.0,Feb_2019)\n",
       "// ** loaded /usr/bin/../share/singular/LIB/general.lib (4.1.2.0,Feb_2019)\n",
       "// ** loaded /usr/bin/../share/singular/LIB/finvar.lib (4.2.1.0,Nov=2021)\n",
       "// ** loaded /usr/bin/../share/singular/LIB/equising.lib (4.1.2.0,Feb_2019)\n",
       "// ** loaded /usr/bin/../share/singular/LIB/elim.lib (4.1.2.0,Feb_2019)\n",
       "// ** loaded /usr/bin/../share/singular/LIB/deform.lib (4.1.2.0,Feb_2019)\n",
       "// ** loaded /usr/bin/../share/singular/LIB/decodegb.lib (4.1.2.0,Feb_2019)\n",
       "// ** loaded /usr/bin/../share/singular/LIB/curvepar.lib (4.1.2.0,Feb_2019)\n",
       "// ** loaded /usr/bin/../share/singular/LIB/crypto.lib (4.2.1.0,Jul_2021)\n",
       "// ** loaded /usr/bin/../share/singular/LIB/control.lib (4.1.2.0,Feb_2019)\n",
       "// ** loaded /usr/bin/../share/singular/LIB/compregb.lib (4.1.2.0,Feb_2019)\n",
       "// ** loaded /usr/bin/../share/singular/LIB/classify.lib (4.1.2.0,Feb_2019)\n",
       "// ** loaded /usr/bin/../share/singular/LIB/cisimplicial.lib (4.1.2.0,Feb_2019)\n",
       "// ** loaded /usr/bin/../share/singular/LIB/brnoeth.lib (4.1.2.0,Feb_2019)\n",
       "// ** loaded /usr/bin/../share/singular/LIB/assprimeszerodim.lib (4.1.2.0,Feb_2019)\n",
       "// ** loaded /usr/bin/../share/singular/LIB/arcpoint.lib (4.1.2.0,Feb_2019)\n",
       "// ** loaded /usr/bin/../share/singular/LIB/algebra.lib (4.2.0.1,Mar_2021)\n",
       "// ** loaded /usr/bin/../share/singular/LIB/alexpoly.lib (4.1.2.0,Feb_2019)\n",
       "// ** loaded /usr/bin/../share/singular/LIB/aksaka.lib (4.1.2.0,Feb_2019)\n",
       "// ** loaded /usr/bin/../share/singular/LIB/ainvar.lib (4.1.2.0,Feb_2019)\n",
       "// ** loaded /usr/bin/../share/singular/LIB/absfact.lib (4.1.2.0,Feb_2019)\n",
       "   skipping text from `;`\n"
      ]
     },
     "execution_count": 1,
     "metadata": {},
     "output_type": "execute_result"
    }
   ],
   "source": [
    "LIB \"all.lib\";"
   ]
  },
  {
   "cell_type": "markdown",
   "id": "305a883c-8184-45d7-8deb-7b64e73abbea",
   "metadata": {},
   "source": [
    "Definimos la localización de nuestro ejercicio."
   ]
  },
  {
   "cell_type": "code",
   "execution_count": 2,
   "id": "4c2b7349-637b-4a58-b8b1-f2b19ae78008",
   "metadata": {},
   "outputs": [],
   "source": [
    "ring R = (0,a,b),(x,y),dp;"
   ]
  },
  {
   "cell_type": "markdown",
   "id": "50a777be-3ec5-4a84-b142-d933d2723eed",
   "metadata": {},
   "source": [
    "Para el estudio de las posibles bases estándar, vamos a distinguir casos:"
   ]
  },
  {
   "cell_type": "markdown",
   "id": "d3014c16-06d9-47ad-ae73-5f3a46cc9d5b",
   "metadata": {},
   "source": [
    "- $a = b = 0$"
   ]
  },
  {
   "cell_type": "markdown",
   "id": "039630ab-e080-4e9e-acf6-2591d44d72b4",
   "metadata": {},
   "source": [
    "Definimos nuestro polinomio, y construimos nuestro ideal de Tjurina."
   ]
  },
  {
   "cell_type": "code",
   "execution_count": 3,
   "id": "24e98db8-7e35-458c-9e63-205aeeed27cd",
   "metadata": {},
   "outputs": [],
   "source": [
    "poly f = y^5 - x^7;\n",
    "ideal S = f, jacob(f);"
   ]
  },
  {
   "cell_type": "markdown",
   "id": "e2601214-d672-493b-8c07-76215e447e9e",
   "metadata": {},
   "source": [
    "Ahora, usamos la función $\\texttt{std}$ de $\\texttt{Singular}$ para ver como es el resultado esperado."
   ]
  },
  {
   "cell_type": "code",
   "execution_count": 4,
   "id": "d9414580-ac54-417d-b59c-4f2c95902add",
   "metadata": {},
   "outputs": [
    {
     "data": {
      "text/plain": [
       "_[1]=y4\n",
       "_[2]=x6\n"
      ]
     },
     "execution_count": 4,
     "metadata": {},
     "output_type": "execute_result"
    }
   ],
   "source": [
    "std(S);"
   ]
  },
  {
   "cell_type": "markdown",
   "id": "72961c5c-faf3-4c51-ba0a-955a3294a921",
   "metadata": {},
   "source": [
    "Ahora, mediante un bucle, ejecutamos el algoritmo especificado en la hoja, y obtendremos una base estándar de I. Cabe destacar que añadimos todos los polinomios a la base, sin tener en cuenta h=0 como el algoritmo propone, para después, simplificarla. "
   ]
  },
  {
   "cell_type": "code",
   "execution_count": 5,
   "id": "c24a876d-995e-4279-beb7-ef109e859c0d",
   "metadata": {},
   "outputs": [
    {
     "data": {
      "text/plain": [
       "S[1]=-x7+y5\n",
       "S[2]=-7*x6\n",
       "S[3]=5*y4\n"
      ]
     },
     "execution_count": 5,
     "metadata": {},
     "output_type": "execute_result"
    }
   ],
   "source": [
    "ideal S_1 = S;\n",
    "int keep = 1;\n",
    "\n",
    "while (keep == 1){\n",
    "    keep = 0;\n",
    "\n",
    "    for(int i = 1; i <= size(S_1)-1; i++){\n",
    "        for(int j = i+1; j <= size(S_1); j++){\n",
    "            poly to_add = reduce(spoly(S[i],S[j]),S);\n",
    "\n",
    "            if(to_add != 0){\n",
    "                S = S,to_add;\n",
    "                keep = 1;\n",
    "            }\n",
    "            \n",
    "        }\n",
    "    }\n",
    "}\n",
    "S;"
   ]
  },
  {
   "cell_type": "markdown",
   "id": "42003e0a-a3dd-4c43-a9b8-f032c9ae526a",
   "metadata": {},
   "source": [
    "Observamos que el resultado esperado es diferente a nuestro resultado. Esto es debido a $\\texttt{std}$ nos da la base más simple posible. Podemos llegar a ella desde $\\texttt{S}$ mediante simplificaciones usando el método $\\texttt{simplify}$. El argumento 32 borra los generadores que sus términos líderes son los por los términos líderes de otros generadores. El argumento 2 borra los generadores que sean 0."
   ]
  },
  {
   "cell_type": "code",
   "execution_count": 6,
   "id": "9a0c377a-a988-4ff7-bb84-af59be997947",
   "metadata": {},
   "outputs": [
    {
     "data": {
      "text/plain": [
       "S[1]=-7*x6\n",
       "S[2]=5*y4\n"
      ]
     },
     "execution_count": 6,
     "metadata": {},
     "output_type": "execute_result"
    }
   ],
   "source": [
    "S = simplify(S, 32); S = simplify(S,2); S;"
   ]
  },
  {
   "cell_type": "markdown",
   "id": "fce9140d-4e9a-4f52-bf3e-3944193ebb8c",
   "metadata": {},
   "source": [
    "Observamos que obtenemos la misma base (salvo constante)."
   ]
  },
  {
   "cell_type": "markdown",
   "id": "510e7f4b-e172-40e1-9f08-90b288c3e970",
   "metadata": {},
   "source": [
    "En lo que sigue, repetiremos de manera análoga este proceso."
   ]
  },
  {
   "cell_type": "markdown",
   "id": "24cf38eb-c7a7-454e-b776-c9c996ed37ac",
   "metadata": {},
   "source": [
    "- $a = 0, b \\neq 0$"
   ]
  },
  {
   "cell_type": "code",
   "execution_count": 7,
   "id": "f22e7d69-2919-40d9-99ce-feba4e659bd5",
   "metadata": {},
   "outputs": [],
   "source": [
    "poly f = y^5 -x^7 + b*x^4*y^4;\n",
    "ideal S = f, jacob(f);"
   ]
  },
  {
   "cell_type": "markdown",
   "id": "9a344e86-3096-4281-b0e7-6b17e97c979b",
   "metadata": {},
   "source": [
    "Volvemos a usar $\\texttt{std}$:"
   ]
  },
  {
   "cell_type": "code",
   "execution_count": 8,
   "id": "ae4ea508-5eff-4ec5-b8fc-42cc2ce3274d",
   "metadata": {
    "scrolled": true
   },
   "outputs": [
    {
     "data": {
      "text/plain": [
       "_[1]=y5\n",
       "_[2]=x2y4\n",
       "_[3]=x6\n",
       "_[4]=(4b)*x4y3+5*y4\n"
      ]
     },
     "execution_count": 8,
     "metadata": {},
     "output_type": "execute_result"
    }
   ],
   "source": [
    "std(S);"
   ]
  },
  {
   "cell_type": "markdown",
   "id": "716979c1-6d31-46b7-b120-6e26fdbe32b4",
   "metadata": {},
   "source": [
    "Repetimos el bucle:"
   ]
  },
  {
   "cell_type": "code",
   "execution_count": 9,
   "id": "69063865-551f-40d6-acb4-ad061be4485e",
   "metadata": {},
   "outputs": [
    {
     "data": {
      "text/plain": [
       "S[1]=(b)*x4y4-x7+y5\n",
       "S[2]=(4b)*x3y4-7*x6\n",
       "S[3]=(4b)*x4y3+5*y4\n",
       "S[4]=3/4*x7+y5\n",
       "S[5]=13/12*y5\n"
      ]
     },
     "execution_count": 9,
     "metadata": {},
     "output_type": "execute_result"
    }
   ],
   "source": [
    "ideal S_1 = S;\n",
    "int keep = 1;\n",
    "\n",
    "while (keep == 1){\n",
    "    keep = 0;\n",
    "\n",
    "    for(int i = 1; i <= size(S_1)-1; i++){\n",
    "        for(int j = i+1; j <= size(S_1); j++){\n",
    "            poly to_add = reduce(spoly(S[i],S[j]),S);\n",
    "\n",
    "            if(to_add != 0){\n",
    "                S = S,to_add;\n",
    "                keep = 1;\n",
    "            }\n",
    "            \n",
    "        }\n",
    "    }\n",
    "}\n",
    "S;"
   ]
  },
  {
   "cell_type": "markdown",
   "id": "f3a3c04c-ad86-4718-a4f7-11b543af706e",
   "metadata": {},
   "source": [
    "Volvemos a simplificar:"
   ]
  },
  {
   "cell_type": "code",
   "execution_count": 10,
   "id": "62e048c5-5fd6-4a7b-955c-cbd074854596",
   "metadata": {
    "scrolled": true
   },
   "outputs": [
    {
     "data": {
      "text/plain": [
       "S[1]=(4b)*x3y4-7*x6\n",
       "S[2]=(4b)*x4y3+5*y4\n",
       "S[3]=3/4*x7+y5\n",
       "S[4]=13/12*y5\n"
      ]
     },
     "execution_count": 10,
     "metadata": {},
     "output_type": "execute_result"
    }
   ],
   "source": [
    "S = simplify(S, 32); S = simplify(S,2); S;"
   ]
  },
  {
   "cell_type": "markdown",
   "id": "d0fe26c3-0bca-4d5a-9cde-4536ed955d34",
   "metadata": {},
   "source": [
    "- $a \\neq 0, b = 0$"
   ]
  },
  {
   "cell_type": "code",
   "execution_count": 11,
   "id": "c859e879-d27e-453a-98cc-4ff7a4912033",
   "metadata": {},
   "outputs": [],
   "source": [
    "poly f = y^5 -x^7 + a*x^3*y^3;\n",
    "ideal S = f, jacob(f);"
   ]
  },
  {
   "cell_type": "markdown",
   "id": "0b5dadc7-69c2-4bf0-8c1d-41f9d3e227a3",
   "metadata": {},
   "source": [
    "Volvemos a usar $\\texttt{std}$:"
   ]
  },
  {
   "cell_type": "code",
   "execution_count": 12,
   "id": "8b4fb397-a23b-4fe6-b304-8eff117d6f66",
   "metadata": {},
   "outputs": [
    {
     "data": {
      "text/plain": [
       "_[1]=y5\n",
       "_[2]=(3a)*x3y2+5*y4\n",
       "_[3]=7*x6+(-3a)*x2y3\n"
      ]
     },
     "execution_count": 12,
     "metadata": {},
     "output_type": "execute_result"
    }
   ],
   "source": [
    "std(S);"
   ]
  },
  {
   "cell_type": "markdown",
   "id": "dbc36994-0033-423e-8ebd-2915a8005a88",
   "metadata": {},
   "source": [
    "Repetimos el bucle:"
   ]
  },
  {
   "cell_type": "code",
   "execution_count": 13,
   "id": "3f63b0a0-1868-4420-a6fa-ffbb8882135c",
   "metadata": {},
   "outputs": [
    {
     "data": {
      "text/plain": [
       "S[1]=-x7+(a)*x3y3+y5\n",
       "S[2]=-7*x6+(3a)*x2y3\n",
       "S[3]=(3a)*x3y2+5*y4\n",
       "S[4]=1/21*y5\n"
      ]
     },
     "execution_count": 13,
     "metadata": {},
     "output_type": "execute_result"
    }
   ],
   "source": [
    "ideal S_1 = S;\n",
    "int keep = 1;\n",
    "\n",
    "while (keep == 1){\n",
    "    keep = 0;\n",
    "\n",
    "    for(int i = 1; i <= size(S_1)-1; i++){\n",
    "        for(int j = i+1; j <= size(S_1); j++){\n",
    "            poly to_add = reduce(spoly(S[i],S[j]),S);\n",
    "\n",
    "            if(to_add != 0){\n",
    "                S = S,to_add;\n",
    "                keep = 1;\n",
    "            }\n",
    "            \n",
    "        }\n",
    "    }\n",
    "}\n",
    "S;"
   ]
  },
  {
   "cell_type": "markdown",
   "id": "3fbece35-1964-4d43-bb0d-696bcb989440",
   "metadata": {},
   "source": [
    "Volvemos a simplificar:"
   ]
  },
  {
   "cell_type": "code",
   "execution_count": 14,
   "id": "46803571-1df5-47bb-97c6-5415fad94a05",
   "metadata": {
    "scrolled": true
   },
   "outputs": [
    {
     "data": {
      "text/plain": [
       "S[1]=-7*x6+(3a)*x2y3\n",
       "S[2]=(3a)*x3y2+5*y4\n",
       "S[3]=1/21*y5\n"
      ]
     },
     "execution_count": 14,
     "metadata": {},
     "output_type": "execute_result"
    }
   ],
   "source": [
    "S = simplify(S, 32); S = simplify(S,2); S;"
   ]
  },
  {
   "cell_type": "markdown",
   "id": "59566ec4-da7e-4156-84aa-3ebe9465e636",
   "metadata": {},
   "source": [
    "- $a \\neq 0, b \\neq 0$"
   ]
  },
  {
   "cell_type": "code",
   "execution_count": 37,
   "id": "d97d9561-5d09-485e-a4d7-f66f968a14ac",
   "metadata": {},
   "outputs": [],
   "source": [
    "poly f = y^5 -x^7 + a*x^3*y^3 + b*x^4*y^4;\n",
    "ideal S = f, jacob(f);"
   ]
  },
  {
   "cell_type": "markdown",
   "id": "acd96e9c-6a6c-4f45-8523-e1e0cb382e09",
   "metadata": {},
   "source": [
    "Volvemos a usar $\\texttt{std}$:"
   ]
  },
  {
   "cell_type": "code",
   "execution_count": 34,
   "id": "be9ecaa8-2468-4963-8d21-8f779ddefcf0",
   "metadata": {},
   "outputs": [
    {
     "data": {
      "text/plain": [
       "K[1]=y5\n",
       "K[2]=(180075a7)*x3y2+(19307236b)*y5+(300125a6)*y4\n",
       "K[3]=(49a)*x6+(52b)*y6+(-21a2)*x2y3\n"
      ]
     },
     "execution_count": 34,
     "metadata": {},
     "output_type": "execute_result"
    }
   ],
   "source": [
    "ideal K = std(S); K;"
   ]
  },
  {
   "cell_type": "markdown",
   "id": "ab4a947f-c060-44f1-a75e-d8b2e46bacf6",
   "metadata": {},
   "source": [
    "Repetimos el bucle:"
   ]
  },
  {
   "cell_type": "code",
   "execution_count": 35,
   "id": "c5f2e561-0258-45ff-a9b1-4d2ce4c8921e",
   "metadata": {},
   "outputs": [
    {
     "data": {
      "text/plain": [
       "S[1]=(b)*x4y4-x7+(a)*x3y3+y5\n",
       "S[2]=(4b)*x3y4-7*x6+(3a)*x2y3\n",
       "S[3]=(4b)*x4y3+(3a)*x3y2+5*y4\n",
       "S[4]=3/4*x7+(a)/4*x3y3+y5\n",
       "S[5]=(7a)/12*x3y3+13/12*y5\n"
      ]
     },
     "execution_count": 35,
     "metadata": {},
     "output_type": "execute_result"
    }
   ],
   "source": [
    "ideal S_1 = S;\n",
    "int keep = 1;\n",
    "\n",
    "while (keep == 1){\n",
    "    keep = 0;\n",
    "\n",
    "    for(int i = 1; i <= size(S_1); i++){\n",
    "        for(int j = 1; j <= size(S_1); j++){\n",
    "            poly to_add = reduce(spoly(S[i],S[j]),S);\n",
    "\n",
    "            if(to_add != 0){\n",
    "                S = S,to_add;\n",
    "                keep = 1;\n",
    "            }\n",
    "            \n",
    "        }\n",
    "    }\n",
    "}\n",
    "S;"
   ]
  },
  {
   "cell_type": "markdown",
   "id": "0c0dbedc-05b6-43fd-90e1-b777faf475d0",
   "metadata": {},
   "source": [
    "Volvemos a simplificar:"
   ]
  },
  {
   "cell_type": "code",
   "execution_count": 36,
   "id": "ef0634d9-da0b-491f-b68c-50ba5e6a10b0",
   "metadata": {
    "scrolled": true
   },
   "outputs": [
    {
     "data": {
      "text/plain": [
       "S[1]=3/4*x7+(a)/4*x3y3+y5\n",
       "S[2]=(7a)/12*x3y3+13/12*y5\n"
      ]
     },
     "execution_count": 36,
     "metadata": {},
     "output_type": "execute_result"
    }
   ],
   "source": [
    "S = simplify(S, 32); S = simplify(S,2); S;"
   ]
  },
  {
   "cell_type": "code",
   "execution_count": 31,
   "id": "f02a7539-9ecf-4f35-989d-4502dec81c05",
   "metadata": {},
   "outputs": [
    {
     "data": {
      "text/plain": [
       "K[1]=y5\n",
       "K[2]=(180075a7)*x3y2+(19307236b)*y5+(300125a6)*y4\n",
       "K[3]=(49a)*x6+(52b)*y6+(-21a2)*x2y3\n"
      ]
     },
     "execution_count": 31,
     "metadata": {},
     "output_type": "execute_result"
    }
   ],
   "source": [
    "K = simplify(K, 32); K = simplify(K,2); K;"
   ]
  },
  {
   "cell_type": "code",
   "execution_count": 38,
   "id": "7f92ce71-1f79-44cd-9ed8-e018b4758553",
   "metadata": {},
   "outputs": [],
   "source": [
    "ideal I_1 = S;\n",
    "\n",
    "for(int i = 1; i <= size(I_1)-1; i++){\n",
    "    for(int j = i+1; j <= size(I_1); j++){\n",
    "        S = S,reduce(spoly(S[i],S[j]),S);\n",
    "    }\n",
    "}"
   ]
  },
  {
   "cell_type": "code",
   "execution_count": 39,
   "id": "24077fc9-17c1-4343-aa47-325344c6c919",
   "metadata": {},
   "outputs": [
    {
     "data": {
      "text/plain": [
       "S[1]=(b)*x4y4-x7+(a)*x3y3+y5\n",
       "S[2]=(4b)*x3y4-7*x6+(3a)*x2y3\n",
       "S[3]=(4b)*x4y3+(3a)*x3y2+5*y4\n",
       "S[4]=3/4*x7+(a)/4*x3y3+y5\n",
       "S[5]=(7a)/12*x3y3+13/12*y5\n",
       "S[6]=0\n"
      ]
     },
     "execution_count": 39,
     "metadata": {},
     "output_type": "execute_result"
    }
   ],
   "source": [
    "S;"
   ]
  },
  {
   "cell_type": "code",
   "execution_count": 40,
   "id": "9a8688b4-86e7-4664-943a-b49aeea5e064",
   "metadata": {},
   "outputs": [
    {
     "data": {
      "text/plain": [
       "S[1]=3/4*x7+(a)/4*x3y3+y5\n",
       "S[2]=(7a)/12*x3y3+13/12*y5\n"
      ]
     },
     "execution_count": 40,
     "metadata": {},
     "output_type": "execute_result"
    }
   ],
   "source": [
    "S = simplify(S, 32); S = simplify(S,2); S;"
   ]
  },
  {
   "cell_type": "code",
   "execution_count": null,
   "id": "3b1c4105-76ba-4eae-bb8d-3c1de20e02db",
   "metadata": {},
   "outputs": [],
   "source": []
  }
 ],
 "metadata": {
  "kernelspec": {
   "display_name": "Singular",
   "language": "singular",
   "name": "singular"
  },
  "language_info": {
   "codemirror_mode": "singular",
   "file_extension": ".singular",
   "mimetype": "text/x-singular",
   "name": "Singular"
  }
 },
 "nbformat": 4,
 "nbformat_minor": 5
}
