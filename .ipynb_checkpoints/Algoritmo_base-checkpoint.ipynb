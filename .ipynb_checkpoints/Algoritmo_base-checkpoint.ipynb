{
 "cells": [
  {
   "cell_type": "markdown",
   "id": "1ee0d16d-73b5-477d-a44d-2902c7fe39e1",
   "metadata": {},
   "source": [
    "Primero, cargamos nuestra librería."
   ]
  },
  {
   "cell_type": "code",
   "execution_count": 1,
   "id": "39ce8cb1-a96e-4bc5-a721-1194355ca21f",
   "metadata": {},
   "outputs": [
    {
     "data": {
      "text/plain": [
       "// ** loaded /usr/bin/../share/singular/LIB/all.lib (4.1.1.0,Jan_2018)\n",
       "// ** loaded /usr/bin/../share/singular/LIB/ratgb.lib (4.1.2.0,Feb_2019)\n",
       "// ** loaded /usr/bin/../share/singular/LIB/qmatrix.lib (4.1.2.0,Feb_2019)\n",
       "// ** loaded /usr/bin/../share/singular/LIB/purityfiltration.lib (4.1.2.0,Feb_2019)\n",
       "// ** loaded /usr/bin/../share/singular/LIB/perron.lib (4.1.2.0,Feb_2019)\n",
       "// ** loaded /usr/bin/../share/singular/LIB/nctools.lib (4.1.2.0,Feb_2019)\n",
       "// ** loaded /usr/bin/../share/singular/LIB/ncpreim.lib (4.1.2.0,Feb_2019)\n",
       "// ** loaded /usr/bin/../share/singular/LIB/dmodloc.lib (4.1.2.0,Feb_2019)\n",
       "// ** loaded /usr/bin/../share/singular/LIB/ncModslimgb.lib (4.1.3.0,Apr_2020)\n",
       "// ** loaded /usr/bin/../share/singular/LIB/resources.lib (4.1.2.0,Feb_2019)\n",
       "// ** loaded /usr/bin/../share/singular/LIB/parallel.lib (4.1.2.0,Feb_2019)\n",
       "// ** loaded /usr/bin/../share/singular/LIB/tasks.lib (4.1.2.0,Feb_2019)\n",
       "// ** loaded /usr/bin/../share/singular/LIB/nchomolog.lib (4.1.2.0,Feb_2019)\n",
       "// ** loaded /usr/bin/../share/singular/LIB/ncfactor.lib (4.2.0.1,Apr_2021)\n",
       "// ** loaded /usr/bin/../share/singular/LIB/ncdecomp.lib (4.1.2.0,Feb_2019)\n",
       "// ** loaded /usr/bin/../share/singular/LIB/ncalg.lib (4.1.2.0,Feb_2019)\n",
       "// ** loaded /usr/bin/../share/singular/LIB/ncall.lib (4.1.2.0,Feb_2019)\n",
       "// ** loaded /usr/bin/../share/singular/LIB/involut.lib (4.1.2.0,Feb_2019)\n",
       "// ** loaded /usr/bin/../share/singular/LIB/gkdim.lib (4.1.2.0,Feb_2019)\n",
       "// ** loaded /usr/bin/../share/singular/LIB/freegb.lib (4.1.2.0,Feb_2019)\n",
       "// ** loaded /usr/bin/../share/singular/LIB/fpaprops.lib (4.1.2.0,Feb_2019)\n",
       "// ** loaded /usr/bin/../share/singular/LIB/fpalgebras.lib (4.1.2.0,Feb_2019)\n",
       "// ** loaded /usr/bin/../share/singular/LIB/fpadim.lib (4.1.2.0,Feb_2019)\n",
       "// ** loaded /usr/bin/../share/singular/LIB/dmodideal.lib (4.1.2.0,Feb_2019)\n",
       "// ** loaded /usr/bin/../share/singular/LIB/dmodvar.lib (4.1.2.0,Feb_2019)\n",
       "// ** loaded /usr/bin/../share/singular/LIB/dmodapp.lib (4.1.3.0,Mar_2020)\n",
       "// ** loaded /usr/bin/../share/singular/LIB/dmod.lib (4.1.2.0,Feb_2019)\n",
       "// ** loaded /usr/bin/../share/singular/LIB/central.lib (4.1.2.0,Feb_2019)\n",
       "// ** loaded /usr/bin/../share/singular/LIB/bfun.lib (4.1.2.0,Feb_2019)\n",
       "// ** loaded /usr/bin/../share/singular/LIB/bimodules.lib (4.1.2.0,Feb_2019)\n",
       "// ** loaded /usr/bin/../share/singular/LIB/zeroset.lib (4.1.2.0,Feb_2019)\n",
       "// ** loaded /usr/bin/../share/singular/LIB/weierstr.lib (4.1.2.0,Feb_2019)\n",
       "// ** loaded /usr/bin/../share/singular/LIB/triang.lib (4.1.2.0,Feb_2019)\n",
       "// ** loaded /usr/bin/../share/singular/LIB/toric.lib (4.2.1.3,Dec_2021)\n",
       "// ** loaded /usr/bin/../share/singular/LIB/teachstd.lib (4.1.2.0,Feb_2019)\n",
       "// ** loaded /usr/bin/../share/singular/LIB/surfex.lib (4.1.2.0,Feb_2019)\n",
       "// ** loaded /usr/bin/../share/singular/LIB/surfacesignature.lib (4.1.2.0,Feb_2019)\n",
       "// ** loaded /usr/bin/../share/singular/LIB/surf_jupyter.lib (4.1.2.0,Feb_2019)\n",
       "// ** loaded /usr/bin/../share/singular/LIB/surf.lib (4.2.1.0,Nov_2021)\n",
       "// ** loaded /usr/bin/../share/singular/LIB/stratify.lib (4.1.2.0,Feb_2019)\n",
       "// ** loaded /usr/bin/../share/singular/LIB/stanleyreisner.lib (4.2.0.0,Dec_2020)\n",
       "   skipping text from ` `// ** loaded /usr/bin/../share/singular/LIB/spectrum.lib (4.1.2.0,Feb_2019)\n",
       "// ** loaded /usr/bin/../share/singular/LIB/spcurve.lib (4.2.1.1,Jul_2021)\n",
       "// ** loaded /usr/bin/../share/singular/LIB/solve.lib (4.1.2.0,Feb_2019)\n",
       "// ** loaded /usr/bin/../share/singular/LIB/signcond.lib (4.1.2.0,Feb_2019)\n",
       "// ** loaded /usr/bin/../share/singular/LIB/sing4ti2.lib (4.2.1,Nov_2021)\n",
       "// ** loaded /usr/bin/../share/singular/LIB/sing.lib (4.2.0.2,May_2021)\n",
       "// ** loaded /usr/bin/../share/singular/LIB/sheafcoh.lib (4.1.2.0,Feb_2019)\n",
       "// ** loaded /usr/bin/../share/singular/LIB/sagbi.lib (4.1.2.0,Feb_2019)\n",
       "// ** loaded /usr/bin/../share/singular/LIB/rootsur.lib (4.1.2.0,Feb_2019)\n",
       "// ** loaded /usr/bin/../share/singular/LIB/rootsmr.lib (4.1.2.0,Feb_2019)\n",
       "// ** loaded /usr/bin/../share/singular/LIB/rinvar.lib (4.1.2.0,Feb_2019)\n",
       "// ** loaded /usr/bin/../share/singular/LIB/ringgb.lib (4.2.0.0,Dec_2020)\n",
       "// ** loaded /usr/bin/../share/singular/LIB/ring.lib (4.1.2.0,Feb_2019)\n",
       "// ** loaded /usr/bin/../share/singular/LIB/reszeta.lib (4.1.2.0,Feb_2019)\n",
       "// ** loaded /usr/bin/../share/singular/LIB/resolve.lib (4.1.2.0,Feb_2019)\n",
       "// ** loaded /usr/bin/../share/singular/LIB/resjung.lib (4.1.2.0,Feb_2019)\n",
       "// ** loaded /usr/bin/../share/singular/LIB/resgraph.lib (4.1.2.0,Feb_2019)\n",
       "// ** loaded /usr/bin/../share/singular/LIB/resbinomial.lib (4.1.2.0,Feb_2019)\n",
       "// ** loaded /usr/bin/../share/singular/LIB/reesclos.lib (4.1.2.0,Feb_2019)\n",
       "// ** loaded /usr/bin/../share/singular/LIB/locnormal.lib (4.1.2.0,Feb_2019)\n",
       "// ** loaded /usr/bin/../share/singular/LIB/redcgs.lib (4.2.0.0,Dec_2020)\n",
       "// ** loaded /usr/bin/../share/singular/LIB/realrad.lib (4.1.2.0,Feb_2019)\n",
       "// ** loaded /usr/bin/../share/singular/LIB/realclassify.lib (4.2.1.0,Jul_2021)\n",
       " error at token `)`\n",
       "// ** loaded /usr/bin/../share/singular/LIB/rootisolation.lib (4.2.1.0,Jul_2021)\n",
       "// ** loaded /usr/bin/../share/singular/LIB/classify2.lib (4.1.2.0,Feb_2019)\n",
       "// ** loaded /usr/bin/../share/singular/LIB/polyclass.lib (4.2.0.0,Dec_2020)\n",
       "// ** loaded /usr/bin/../share/singular/LIB/random.lib (4.1.2.0,Feb_2019)\n",
       "// ** loaded /usr/bin/../share/singular/LIB/qhmoduli.lib (4.1.2.0,Feb_2019)\n",
       "// ** loaded /usr/bin/../share/singular/LIB/primitiv.lib (4.1.2.0,Feb_2019)\n",
       "// ** loaded /usr/bin/../share/singular/LIB/primdecint.lib (4.1.2.0,Feb_2019)\n",
       "// ** loaded /usr/bin/../share/singular/LIB/primdec.lib (4.2.1.1,Jul_2021)\n",
       "// ** loaded /usr/bin/../share/singular/LIB/presolve.lib (4.1.2.0,Feb_2019)\n",
       "// ** loaded /usr/bin/../share/singular/LIB/polylib.lib (4.2.0.0,Dec_2020)\n",
       "// ** loaded /usr/bin/../share/singular/LIB/pointid.lib (4.1.2.0,Feb_2019)\n",
       "// ** loaded /usr/bin/../share/singular/LIB/phindex.lib (4.1.2.0,Feb_2019)\n",
       "// ** loaded /usr/bin/../share/singular/LIB/pfd.lib (4.1.3.2,Aug_2020)\n",
       "// ** loaded /usr/bin/../share/singular/LIB/paraplanecurves.lib (4.1.2.0,Feb_2019)\n",
       "// ** loaded /usr/bin/../share/singular/LIB/ntsolve.lib (4.1.2.0,Feb_2019)\n",
       "// ** loaded /usr/bin/../share/singular/LIB/normaliz.lib (4.1.2.0,Feb_2019)\n",
       "// ** loaded /usr/bin/../share/singular/LIB/normal.lib (4.1.2.0,Feb_2019)\n",
       "// ** loaded /usr/bin/../share/singular/LIB/curveInv.lib (4.1.2.0,Feb_2019)\n",
       "// ** loaded /usr/bin/../share/singular/LIB/noether.lib (4.1.2.0,Feb_2019)\n",
       "// ** loaded /usr/bin/../share/singular/LIB/nfmodsyz.lib (4.1.2.0,Feb_2019)\n",
       "// ** loaded /usr/bin/../share/singular/LIB/nfmodstd.lib (4.1.2.0,Feb_2019)\n",
       "// ** loaded /usr/bin/../share/singular/LIB/mregular.lib (4.1.2.0,Feb_2019)\n",
       "// ** loaded /usr/bin/../share/singular/LIB/mprimdec.lib (4.1.2.0,Feb_2019)\n",
       "// ** loaded /usr/bin/../share/singular/LIB/monomialideal.lib (4.1.2.0,Feb_2019)\n",
       "// ** loaded /usr/bin/../share/singular/LIB/mondromy.lib (4.1.2.0,Feb_2019)\n",
       "// ** loaded /usr/bin/../share/singular/LIB/modstd.lib (4.2.0.0,Feb_2020)\n",
       "   skipping text from ` ` error at token `)`\n",
       "// ** loaded /usr/bin/../share/singular/LIB/modular.lib (4.2.0.0,Dec_2020)\n",
       "// ** loaded /usr/bin/../share/singular/LIB/modnormal.lib (4.1.2.0,Feb_2019)\n",
       "// ** loaded /usr/bin/../share/singular/LIB/moddiq.lib (4.1.2.0,Feb_2020)\n",
       "// ** loaded /usr/bin/../share/singular/LIB/matrix.lib (4.1.2.0,Feb_2019)\n",
       "// ** loaded /usr/bin/../share/singular/LIB/makedbm.lib (4.1.2.0,Feb_2019)\n",
       "// ** loaded /usr/bin/../share/singular/LIB/linalg.lib (4.1.2.0,Feb_2019)\n",
       "// ** loaded /usr/bin/../share/singular/LIB/latex.lib (4.1.2.0,Feb_2019)\n",
       "// ** loaded /usr/bin/../share/singular/LIB/kskernel.lib (4.1.2.0,Feb_2019)\n",
       "// ** loaded /usr/bin/../share/singular/LIB/jacobson.lib (4.1.2.0,Feb_2019)\n",
       "// ** loaded /usr/bin/../share/singular/LIB/intprog.lib (4.2.1.3,Dec_2021)\n",
       "// ** loaded /usr/bin/../share/singular/LIB/inout.lib (4.1.2.0,Feb_2019)\n",
       "// ** loaded /usr/bin/../share/singular/LIB/integralbasis.lib (4.1.2.0,Feb_2019)\n",
       "// ** loaded /usr/bin/../share/singular/LIB/hyperel.lib (4.1.2.0,Feb_2019)\n",
       "// ** loaded /usr/bin/../share/singular/LIB/homolog.lib (4.1.2.0,Feb_2019)\n",
       "// ** loaded /usr/bin/../share/singular/LIB/hnoether.lib (4.1.2.0,Feb_2019)\n",
       "// ** loaded /usr/bin/../share/singular/LIB/grwalk.lib (4.1.2.0,Feb_2019)\n",
       "// ** loaded /usr/bin/../share/singular/LIB/groups.lib (4.1.2.0,Feb_2019)\n",
       "// ** loaded /usr/bin/../share/singular/LIB/grobcov.lib (4.2.0,February_2021)\n",
       "// ** loaded /usr/bin/../share/singular/LIB/graphics.lib (4.1.2.0,Feb_2019)\n",
       "// ** loaded /usr/bin/../share/singular/LIB/gmssing.lib (4.1.2.0,Feb_2019)\n",
       "// ** loaded /usr/bin/../share/singular/LIB/gmspoly.lib (4.1.2.0,Feb_2019)\n",
       "// ** loaded /usr/bin/../share/singular/LIB/general.lib (4.1.2.0,Feb_2019)\n",
       "// ** loaded /usr/bin/../share/singular/LIB/finvar.lib (4.2.1.0,Nov=2021)\n",
       "// ** loaded /usr/bin/../share/singular/LIB/equising.lib (4.1.2.0,Feb_2019)\n",
       "// ** loaded /usr/bin/../share/singular/LIB/elim.lib (4.1.2.0,Feb_2019)\n",
       "// ** loaded /usr/bin/../share/singular/LIB/deform.lib (4.1.2.0,Feb_2019)\n",
       "// ** loaded /usr/bin/../share/singular/LIB/decodegb.lib (4.1.2.0,Feb_2019)\n",
       "// ** loaded /usr/bin/../share/singular/LIB/curvepar.lib (4.1.2.0,Feb_2019)\n",
       "// ** loaded /usr/bin/../share/singular/LIB/crypto.lib (4.2.1.0,Jul_2021)\n",
       "// ** loaded /usr/bin/../share/singular/LIB/control.lib (4.1.2.0,Feb_2019)\n",
       "// ** loaded /usr/bin/../share/singular/LIB/compregb.lib (4.1.2.0,Feb_2019)\n",
       "// ** loaded /usr/bin/../share/singular/LIB/classify.lib (4.1.2.0,Feb_2019)\n",
       "// ** loaded /usr/bin/../share/singular/LIB/cisimplicial.lib (4.1.2.0,Feb_2019)\n",
       "// ** loaded /usr/bin/../share/singular/LIB/brnoeth.lib (4.1.2.0,Feb_2019)\n",
       "// ** loaded /usr/bin/../share/singular/LIB/assprimeszerodim.lib (4.1.2.0,Feb_2019)\n",
       "// ** loaded /usr/bin/../share/singular/LIB/arcpoint.lib (4.1.2.0,Feb_2019)\n",
       "// ** loaded /usr/bin/../share/singular/LIB/algebra.lib (4.2.0.1,Mar_2021)\n",
       "// ** loaded /usr/bin/../share/singular/LIB/alexpoly.lib (4.1.2.0,Feb_2019)\n",
       "// ** loaded /usr/bin/../share/singular/LIB/aksaka.lib (4.1.2.0,Feb_2019)\n",
       "// ** loaded /usr/bin/../share/singular/LIB/ainvar.lib (4.1.2.0,Feb_2019)\n",
       "// ** loaded /usr/bin/../share/singular/LIB/absfact.lib (4.1.2.0,Feb_2019)\n",
       "   skipping text from `return` error at token `)`\n"
      ]
     },
     "execution_count": 1,
     "metadata": {},
     "output_type": "execute_result"
    }
   ],
   "source": [
    "LIB \"all.lib\""
   ]
  },
  {
   "cell_type": "markdown",
   "id": "1cda3fb4-c2ea-4072-a9d1-4b94d206b74c",
   "metadata": {},
   "source": [
    "Ahora, definimos nuestra localización."
   ]
  },
  {
   "cell_type": "code",
   "execution_count": 2,
   "id": "3dedc19a-49c5-445e-a393-11e84a9599dc",
   "metadata": {},
   "outputs": [],
   "source": [
    "ring R = (0,a,b),(x,y),dp;"
   ]
  },
  {
   "cell_type": "code",
   "execution_count": 3,
   "id": "f272f8c0-8326-4a06-a3de-a1e3e61d28c5",
   "metadata": {},
   "outputs": [
    {
     "data": {
      "text/plain": [
       "I[1]=x2+y\n",
       "I[2]=xy+x\n"
      ]
     },
     "execution_count": 3,
     "metadata": {},
     "output_type": "execute_result"
    }
   ],
   "source": [
    "poly f = x^2 + y; poly g = x*y+x; ideal I = f,g; I;"
   ]
  },
  {
   "cell_type": "code",
   "execution_count": 73,
   "id": "3162114a-2dc4-4e0a-bae3-f238ee174432",
   "metadata": {},
   "outputs": [],
   "source": [
    "poly f = y^5-x^7+a*x^3*y^3;"
   ]
  },
  {
   "cell_type": "code",
   "execution_count": 74,
   "id": "f850d701-d848-48c4-bdbe-884141978e69",
   "metadata": {},
   "outputs": [
    {
     "data": {
      "text/plain": [
       "I[1]=-x7+(a)*x3y3+y5\n",
       "I[2]=-7*x6+(3a)*x2y3\n",
       "I[3]=(3a)*x3y2+5*y4\n"
      ]
     },
     "execution_count": 74,
     "metadata": {},
     "output_type": "execute_result"
    }
   ],
   "source": [
    "ideal I = f,  jacob(f); I;"
   ]
  },
  {
   "cell_type": "code",
   "execution_count": 75,
   "id": "c4d3f125-ea57-45dc-82f7-7568a197ac86",
   "metadata": {},
   "outputs": [
    {
     "data": {
      "text/plain": [
       "_[1]=y5\n",
       "_[2]=(3a)*x3y2+5*y4\n",
       "_[3]=7*x6+(-3a)*x2y3\n"
      ]
     },
     "execution_count": 75,
     "metadata": {},
     "output_type": "execute_result"
    }
   ],
   "source": [
    "std(I);"
   ]
  },
  {
   "cell_type": "markdown",
   "id": "5a41965d-e109-499e-aa7b-0b539bdb7bd5",
   "metadata": {},
   "source": [
    "Definimos nuestro polinomio principal"
   ]
  },
  {
   "cell_type": "code",
   "execution_count": 61,
   "id": "add64dbd-dc2b-4653-94a1-d9323c275811",
   "metadata": {},
   "outputs": [],
   "source": [
    "poly f = y^5 - x^7 + a*x^3*y^3 + b*x^4*y^4;"
   ]
  },
  {
   "cell_type": "markdown",
   "id": "577e1227-0541-4f54-b40f-3aaa0bf9bd0b",
   "metadata": {},
   "source": [
    "Calculamos ahora su ideal de Tjurina."
   ]
  },
  {
   "cell_type": "code",
   "execution_count": 76,
   "id": "cbe6ced3-372f-4003-982f-800c536d7fa6",
   "metadata": {},
   "outputs": [
    {
     "data": {
      "text/plain": [
       "I[1]=-x7+(a)*x3y3+y5\n",
       "I[2]=-7*x6+(3a)*x2y3\n",
       "I[3]=(3a)*x3y2+5*y4\n"
      ]
     },
     "execution_count": 76,
     "metadata": {},
     "output_type": "execute_result"
    }
   ],
   "source": [
    "ideal I = f,jacob(f); I;"
   ]
  },
  {
   "cell_type": "code",
   "execution_count": 82,
   "id": "6dd08c9f-24af-4e4a-9ddc-3e5d35b717d3",
   "metadata": {},
   "outputs": [
    {
     "data": {
      "text/plain": [
       "I[1]=-7*x6+(3a)*x2y3\n",
       "I[2]=(3a)*x3y2+5*y4\n",
       "I[3]=1/21*y5\n"
      ]
     },
     "execution_count": 82,
     "metadata": {},
     "output_type": "execute_result"
    }
   ],
   "source": [
    "I = simplify(I,2); I;"
   ]
  },
  {
   "cell_type": "markdown",
   "id": "9acb6d75-1f4a-4f22-8c6f-445b12e579fb",
   "metadata": {},
   "source": [
    "Comenzamos"
   ]
  },
  {
   "cell_type": "code",
   "execution_count": 36,
   "id": "be786648-f851-493b-a94e-56e4f8ae7d55",
   "metadata": {},
   "outputs": [
    {
     "data": {
      "text/plain": [
       "1/21*y5\n",
       "-25/(9a2)*xy6-2/3*y7\n",
       "(3a)*x2y5-175/(9a2)*y6\n"
      ]
     },
     "execution_count": 36,
     "metadata": {},
     "output_type": "execute_result"
    }
   ],
   "source": [
    "poly h1 = reduce(spoly(I[1],I[2]),I); h1;\n",
    "poly h2 = reduce(spoly(I[1],I[3]),I); h2;\n",
    "poly h3 = reduce(spoly(I[2],I[3]),I); h3;"
   ]
  },
  {
   "cell_type": "code",
   "execution_count": 52,
   "id": "130df542-8232-4d8f-83d1-80b3c4749794",
   "metadata": {},
   "outputs": [
    {
     "data": {
      "text/plain": [
       "I[1]=-x7+(a)*x3y3+y5\n",
       "I[2]=-7*x6+(3a)*x2y3\n",
       "I[3]=(3a)*x3y2+5*y4\n",
       "I[4]=-25/(9a2)*xy6-2/3*y7\n"
      ]
     },
     "execution_count": 52,
     "metadata": {},
     "output_type": "execute_result"
    }
   ],
   "source": [
    "I = I,h2; I;"
   ]
  },
  {
   "cell_type": "code",
   "execution_count": 79,
   "id": "f484ccd2-95ce-42e7-9aa3-093106858658",
   "metadata": {},
   "outputs": [],
   "source": [
    "ideal I_1 = I;\n",
    "\n",
    "for(int i = 1; i <= size(I_1)-1; i++){\n",
    "    for(int j = i+1; j <= size(I_1); j++){\n",
    "        I = I,reduce(spoly(I[i],I[j]),I);\n",
    "    }\n",
    "}"
   ]
  },
  {
   "cell_type": "code",
   "execution_count": 80,
   "id": "bd6c2524-28ec-4c39-bde2-39c3ba5079b0",
   "metadata": {},
   "outputs": [
    {
     "data": {
      "text/plain": [
       "I[1]=-x7+(a)*x3y3+y5\n",
       "I[2]=-7*x6+(3a)*x2y3\n",
       "I[3]=(3a)*x3y2+5*y4\n",
       "I[4]=1/21*y5\n",
       "I[5]=0\n",
       "I[6]=0\n",
       "I[7]=0\n",
       "I[8]=0\n",
       "I[9]=0\n",
       "I[10]=0\n",
       "I[11]=0\n",
       "I[12]=0\n"
      ]
     },
     "execution_count": 80,
     "metadata": {},
     "output_type": "execute_result"
    }
   ],
   "source": [
    "I;"
   ]
  },
  {
   "cell_type": "code",
   "execution_count": 88,
   "id": "3bb69f81-7967-4c0c-9d4b-1fab4af67346",
   "metadata": {},
   "outputs": [],
   "source": [
    "poly f = a*x^3*y^3-x^7+y^5;\n",
    "poly g = 3*a*x^2*y^3-7*x^6;\n",
    "poly k = 3*a*x^3*y^2 + 5*y^4;\n",
    "poly h = -1*y^5;\n",
    "poly l = y^4*(-6*a*y^3+15*x^4);\n",
    "poly t = -35*x^3*y^4;\n",
    "\n",
    "ideal M = f,g,k,h,l,t;"
   ]
  },
  {
   "cell_type": "code",
   "execution_count": 91,
   "id": "728d16a2-f6c3-486c-ba59-22ba3943b695",
   "metadata": {
    "scrolled": true
   },
   "outputs": [
    {
     "data": {
      "text/plain": [
       "M[1]=-7*x6+(3a)*x2y3\n",
       "M[2]=(3a)*x3y2+5*y4\n",
       "M[3]=-y5\n"
      ]
     },
     "execution_count": 91,
     "metadata": {},
     "output_type": "execute_result"
    }
   ],
   "source": [
    "M = simplify(M,2); M;"
   ]
  },
  {
   "cell_type": "code",
   "execution_count": 92,
   "id": "6003157e-ce73-475f-8769-bebd1f630887",
   "metadata": {},
   "outputs": [
    {
     "data": {
      "text/plain": [
       "I[1]=-7*x6+(3a)*x2y3\n",
       "I[2]=(3a)*x3y2+5*y4\n",
       "I[3]=1/21*y5\n"
      ]
     },
     "execution_count": 92,
     "metadata": {},
     "output_type": "execute_result"
    }
   ],
   "source": [
    "I;"
   ]
  }
 ],
 "metadata": {
  "kernelspec": {
   "display_name": "Singular",
   "language": "singular",
   "name": "singular"
  },
  "language_info": {
   "codemirror_mode": "singular",
   "file_extension": ".singular",
   "mimetype": "text/x-singular",
   "name": "Singular"
  }
 },
 "nbformat": 4,
 "nbformat_minor": 5
}
