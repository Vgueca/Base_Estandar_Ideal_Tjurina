{
 "cells": [
  {
   "cell_type": "markdown",
   "id": "a2eb6d74",
   "metadata": {},
   "source": [
    "Importamos las librerías"
   ]
  },
  {
   "cell_type": "code",
   "execution_count": 2,
   "id": "a5ee6296",
   "metadata": {},
   "outputs": [
    {
     "data": {
      "text/plain": [
       "// ** loaded /usr/bin/../share/singular/LIB/all.lib (4.1.1.0,Jan_2018)\n",
       "// ** loaded /usr/bin/../share/singular/LIB/ratgb.lib (4.1.2.0,Feb_2019)\n",
       "// ** loaded /usr/bin/../share/singular/LIB/qmatrix.lib (4.1.2.0,Feb_2019)\n",
       "// ** loaded /usr/bin/../share/singular/LIB/purityfiltration.lib (4.1.2.0,Feb_2019)\n",
       "// ** loaded /usr/bin/../share/singular/LIB/perron.lib (4.1.2.0,Feb_2019)\n",
       "// ** loaded /usr/bin/../share/singular/LIB/nctools.lib (4.1.2.0,Feb_2019)\n",
       "// ** loaded /usr/bin/../share/singular/LIB/ncpreim.lib (4.1.2.0,Feb_2019)\n",
       "// ** loaded /usr/bin/../share/singular/LIB/dmodloc.lib (4.1.2.0,Feb_2019)\n",
       "// ** loaded /usr/bin/../share/singular/LIB/ncModslimgb.lib (4.1.3.0,Apr_2020)\n",
       "// ** loaded /usr/bin/../share/singular/LIB/resources.lib (4.1.2.0,Feb_2019)\n",
       "// ** loaded /usr/bin/../share/singular/LIB/parallel.lib (4.1.2.0,Feb_2019)\n",
       "// ** loaded /usr/bin/../share/singular/LIB/tasks.lib (4.1.2.0,Feb_2019)\n",
       "// ** loaded /usr/bin/../share/singular/LIB/nchomolog.lib (4.1.2.0,Feb_2019)\n",
       "// ** loaded /usr/bin/../share/singular/LIB/ncfactor.lib (4.2.0.1,Apr_2021)\n",
       "// ** loaded /usr/bin/../share/singular/LIB/ncdecomp.lib (4.1.2.0,Feb_2019)\n",
       "// ** loaded /usr/bin/../share/singular/LIB/ncalg.lib (4.1.2.0,Feb_2019)\n",
       "// ** loaded /usr/bin/../share/singular/LIB/ncall.lib (4.1.2.0,Feb_2019)\n",
       "// ** loaded /usr/bin/../share/singular/LIB/involut.lib (4.1.2.0,Feb_2019)\n",
       "// ** loaded /usr/bin/../share/singular/LIB/gkdim.lib (4.1.2.0,Feb_2019)\n",
       "// ** loaded /usr/bin/../share/singular/LIB/freegb.lib (4.1.2.0,Feb_2019)\n",
       "// ** loaded /usr/bin/../share/singular/LIB/fpaprops.lib (4.1.2.0,Feb_2019)\n",
       "// ** loaded /usr/bin/../share/singular/LIB/fpalgebras.lib (4.1.2.0,Feb_2019)\n",
       "// ** loaded /usr/bin/../share/singular/LIB/fpadim.lib (4.1.2.0,Feb_2019)\n",
       "// ** loaded /usr/bin/../share/singular/LIB/dmodideal.lib (4.1.2.0,Feb_2019)\n",
       "// ** loaded /usr/bin/../share/singular/LIB/dmodvar.lib (4.1.2.0,Feb_2019)\n",
       "// ** loaded /usr/bin/../share/singular/LIB/dmodapp.lib (4.1.3.0,Mar_2020)\n",
       "// ** loaded /usr/bin/../share/singular/LIB/dmod.lib (4.1.2.0,Feb_2019)\n",
       "// ** loaded /usr/bin/../share/singular/LIB/central.lib (4.1.2.0,Feb_2019)\n",
       "// ** loaded /usr/bin/../share/singular/LIB/bfun.lib (4.1.2.0,Feb_2019)\n",
       "// ** loaded /usr/bin/../share/singular/LIB/bimodules.lib (4.1.2.0,Feb_2019)\n",
       "// ** loaded /usr/bin/../share/singular/LIB/zeroset.lib (4.1.2.0,Feb_2019)\n",
       "// ** loaded /usr/bin/../share/singular/LIB/weierstr.lib (4.1.2.0,Feb_2019)\n",
       "// ** loaded /usr/bin/../share/singular/LIB/triang.lib (4.1.2.0,Feb_2019)\n",
       "// ** loaded /usr/bin/../share/singular/LIB/toric.lib (4.2.1.3,Dec_2021)\n",
       "// ** loaded /usr/bin/../share/singular/LIB/teachstd.lib (4.1.2.0,Feb_2019)\n",
       "// ** loaded /usr/bin/../share/singular/LIB/surfex.lib (4.1.2.0,Feb_2019)\n",
       "// ** loaded /usr/bin/../share/singular/LIB/surfacesignature.lib (4.1.2.0,Feb_2019)\n",
       "// ** loaded /usr/bin/../share/singular/LIB/surf_jupyter.lib (4.1.2.0,Feb_2019)\n",
       "// ** loaded /usr/bin/../share/singular/LIB/surf.lib (4.2.1.0,Nov_2021)\n",
       "// ** loaded /usr/bin/../share/singular/LIB/stratify.lib (4.1.2.0,Feb_2019)\n",
       "// ** loaded /usr/bin/../share/singular/LIB/stanleyreisner.lib (4.2.0.0,Dec_2020)\n",
       "   skipping text from ` `// ** loaded /usr/bin/../share/singular/LIB/spectrum.lib (4.1.2.0,Feb_2019)\n",
       "// ** loaded /usr/bin/../share/singular/LIB/spcurve.lib (4.2.1.1,Jul_2021)\n",
       "// ** loaded /usr/bin/../share/singular/LIB/solve.lib (4.1.2.0,Feb_2019)\n",
       "// ** loaded /usr/bin/../share/singular/LIB/signcond.lib (4.1.2.0,Feb_2019)\n",
       "// ** loaded /usr/bin/../share/singular/LIB/sing4ti2.lib (4.2.1,Nov_2021)\n",
       "// ** loaded /usr/bin/../share/singular/LIB/sing.lib (4.2.0.2,May_2021)\n",
       "// ** loaded /usr/bin/../share/singular/LIB/sheafcoh.lib (4.1.2.0,Feb_2019)\n",
       "// ** loaded /usr/bin/../share/singular/LIB/sagbi.lib (4.1.2.0,Feb_2019)\n",
       "// ** loaded /usr/bin/../share/singular/LIB/rootsur.lib (4.1.2.0,Feb_2019)\n",
       "// ** loaded /usr/bin/../share/singular/LIB/rootsmr.lib (4.1.2.0,Feb_2019)\n",
       "// ** loaded /usr/bin/../share/singular/LIB/rinvar.lib (4.1.2.0,Feb_2019)\n",
       "// ** loaded /usr/bin/../share/singular/LIB/ringgb.lib (4.2.0.0,Dec_2020)\n",
       "// ** loaded /usr/bin/../share/singular/LIB/ring.lib (4.1.2.0,Feb_2019)\n",
       "// ** loaded /usr/bin/../share/singular/LIB/reszeta.lib (4.1.2.0,Feb_2019)\n",
       "// ** loaded /usr/bin/../share/singular/LIB/resolve.lib (4.1.2.0,Feb_2019)\n",
       "// ** loaded /usr/bin/../share/singular/LIB/resjung.lib (4.1.2.0,Feb_2019)\n",
       "// ** loaded /usr/bin/../share/singular/LIB/resgraph.lib (4.1.2.0,Feb_2019)\n",
       "// ** loaded /usr/bin/../share/singular/LIB/resbinomial.lib (4.1.2.0,Feb_2019)\n",
       "// ** loaded /usr/bin/../share/singular/LIB/reesclos.lib (4.1.2.0,Feb_2019)\n",
       "// ** loaded /usr/bin/../share/singular/LIB/locnormal.lib (4.1.2.0,Feb_2019)\n",
       "// ** loaded /usr/bin/../share/singular/LIB/redcgs.lib (4.2.0.0,Dec_2020)\n",
       "// ** loaded /usr/bin/../share/singular/LIB/realrad.lib (4.1.2.0,Feb_2019)\n",
       "// ** loaded /usr/bin/../share/singular/LIB/realclassify.lib (4.2.1.0,Jul_2021)\n",
       " error at token `)`\n",
       "// ** loaded /usr/bin/../share/singular/LIB/rootisolation.lib (4.2.1.0,Jul_2021)\n",
       "// ** loaded /usr/bin/../share/singular/LIB/classify2.lib (4.1.2.0,Feb_2019)\n",
       "// ** loaded /usr/bin/../share/singular/LIB/polyclass.lib (4.2.0.0,Dec_2020)\n",
       "// ** loaded /usr/bin/../share/singular/LIB/random.lib (4.1.2.0,Feb_2019)\n",
       "// ** loaded /usr/bin/../share/singular/LIB/qhmoduli.lib (4.1.2.0,Feb_2019)\n",
       "// ** loaded /usr/bin/../share/singular/LIB/primitiv.lib (4.1.2.0,Feb_2019)\n",
       "// ** loaded /usr/bin/../share/singular/LIB/primdecint.lib (4.1.2.0,Feb_2019)\n",
       "// ** loaded /usr/bin/../share/singular/LIB/primdec.lib (4.2.1.1,Jul_2021)\n",
       "// ** loaded /usr/bin/../share/singular/LIB/presolve.lib (4.1.2.0,Feb_2019)\n",
       "// ** loaded /usr/bin/../share/singular/LIB/polylib.lib (4.2.0.0,Dec_2020)\n",
       "// ** loaded /usr/bin/../share/singular/LIB/pointid.lib (4.1.2.0,Feb_2019)\n",
       "// ** loaded /usr/bin/../share/singular/LIB/phindex.lib (4.1.2.0,Feb_2019)\n",
       "// ** loaded /usr/bin/../share/singular/LIB/pfd.lib (4.1.3.2,Aug_2020)\n",
       "// ** loaded /usr/bin/../share/singular/LIB/paraplanecurves.lib (4.1.2.0,Feb_2019)\n",
       "// ** loaded /usr/bin/../share/singular/LIB/ntsolve.lib (4.1.2.0,Feb_2019)\n",
       "// ** loaded /usr/bin/../share/singular/LIB/normaliz.lib (4.1.2.0,Feb_2019)\n",
       "// ** loaded /usr/bin/../share/singular/LIB/normal.lib (4.1.2.0,Feb_2019)\n",
       "// ** loaded /usr/bin/../share/singular/LIB/curveInv.lib (4.1.2.0,Feb_2019)\n",
       "// ** loaded /usr/bin/../share/singular/LIB/noether.lib (4.1.2.0,Feb_2019)\n",
       "// ** loaded /usr/bin/../share/singular/LIB/nfmodsyz.lib (4.1.2.0,Feb_2019)\n",
       "// ** loaded /usr/bin/../share/singular/LIB/nfmodstd.lib (4.1.2.0,Feb_2019)\n",
       "// ** loaded /usr/bin/../share/singular/LIB/mregular.lib (4.1.2.0,Feb_2019)\n",
       "// ** loaded /usr/bin/../share/singular/LIB/mprimdec.lib (4.1.2.0,Feb_2019)\n",
       "// ** loaded /usr/bin/../share/singular/LIB/monomialideal.lib (4.1.2.0,Feb_2019)\n",
       "// ** loaded /usr/bin/../share/singular/LIB/mondromy.lib (4.1.2.0,Feb_2019)\n",
       "// ** loaded /usr/bin/../share/singular/LIB/modstd.lib (4.2.0.0,Feb_2020)\n",
       "   skipping text from ` ` error at token `)`\n",
       "// ** loaded /usr/bin/../share/singular/LIB/modular.lib (4.2.0.0,Dec_2020)\n",
       "// ** loaded /usr/bin/../share/singular/LIB/modnormal.lib (4.1.2.0,Feb_2019)\n",
       "// ** loaded /usr/bin/../share/singular/LIB/moddiq.lib (4.1.2.0,Feb_2020)\n",
       "// ** loaded /usr/bin/../share/singular/LIB/matrix.lib (4.1.2.0,Feb_2019)\n",
       "// ** loaded /usr/bin/../share/singular/LIB/makedbm.lib (4.1.2.0,Feb_2019)\n",
       "// ** loaded /usr/bin/../share/singular/LIB/linalg.lib (4.1.2.0,Feb_2019)\n",
       "// ** loaded /usr/bin/../share/singular/LIB/latex.lib (4.1.2.0,Feb_2019)\n",
       "// ** loaded /usr/bin/../share/singular/LIB/kskernel.lib (4.1.2.0,Feb_2019)\n",
       "// ** loaded /usr/bin/../share/singular/LIB/jacobson.lib (4.1.2.0,Feb_2019)\n",
       "// ** loaded /usr/bin/../share/singular/LIB/intprog.lib (4.2.1.3,Dec_2021)\n",
       "// ** loaded /usr/bin/../share/singular/LIB/inout.lib (4.1.2.0,Feb_2019)\n",
       "// ** loaded /usr/bin/../share/singular/LIB/integralbasis.lib (4.1.2.0,Feb_2019)\n",
       "// ** loaded /usr/bin/../share/singular/LIB/hyperel.lib (4.1.2.0,Feb_2019)\n",
       "// ** loaded /usr/bin/../share/singular/LIB/homolog.lib (4.1.2.0,Feb_2019)\n",
       "// ** loaded /usr/bin/../share/singular/LIB/hnoether.lib (4.1.2.0,Feb_2019)\n",
       "// ** loaded /usr/bin/../share/singular/LIB/grwalk.lib (4.1.2.0,Feb_2019)\n",
       "// ** loaded /usr/bin/../share/singular/LIB/groups.lib (4.1.2.0,Feb_2019)\n",
       "// ** loaded /usr/bin/../share/singular/LIB/grobcov.lib (4.2.0,February_2021)\n",
       "// ** loaded /usr/bin/../share/singular/LIB/graphics.lib (4.1.2.0,Feb_2019)\n",
       "// ** loaded /usr/bin/../share/singular/LIB/gmssing.lib (4.1.2.0,Feb_2019)\n",
       "// ** loaded /usr/bin/../share/singular/LIB/gmspoly.lib (4.1.2.0,Feb_2019)\n",
       "// ** loaded /usr/bin/../share/singular/LIB/general.lib (4.1.2.0,Feb_2019)\n",
       "// ** loaded /usr/bin/../share/singular/LIB/finvar.lib (4.2.1.0,Nov=2021)\n",
       "// ** loaded /usr/bin/../share/singular/LIB/equising.lib (4.1.2.0,Feb_2019)\n",
       "// ** loaded /usr/bin/../share/singular/LIB/elim.lib (4.1.2.0,Feb_2019)\n",
       "// ** loaded /usr/bin/../share/singular/LIB/deform.lib (4.1.2.0,Feb_2019)\n",
       "// ** loaded /usr/bin/../share/singular/LIB/decodegb.lib (4.1.2.0,Feb_2019)\n",
       "// ** loaded /usr/bin/../share/singular/LIB/curvepar.lib (4.1.2.0,Feb_2019)\n",
       "// ** loaded /usr/bin/../share/singular/LIB/crypto.lib (4.2.1.0,Jul_2021)\n",
       "// ** loaded /usr/bin/../share/singular/LIB/control.lib (4.1.2.0,Feb_2019)\n",
       "// ** loaded /usr/bin/../share/singular/LIB/compregb.lib (4.1.2.0,Feb_2019)\n",
       "// ** loaded /usr/bin/../share/singular/LIB/classify.lib (4.1.2.0,Feb_2019)\n",
       "// ** loaded /usr/bin/../share/singular/LIB/cisimplicial.lib (4.1.2.0,Feb_2019)\n",
       "// ** loaded /usr/bin/../share/singular/LIB/brnoeth.lib (4.1.2.0,Feb_2019)\n",
       "// ** loaded /usr/bin/../share/singular/LIB/assprimeszerodim.lib (4.1.2.0,Feb_2019)\n",
       "// ** loaded /usr/bin/../share/singular/LIB/arcpoint.lib (4.1.2.0,Feb_2019)\n",
       "// ** loaded /usr/bin/../share/singular/LIB/algebra.lib (4.2.0.1,Mar_2021)\n",
       "// ** loaded /usr/bin/../share/singular/LIB/alexpoly.lib (4.1.2.0,Feb_2019)\n",
       "// ** loaded /usr/bin/../share/singular/LIB/aksaka.lib (4.1.2.0,Feb_2019)\n",
       "// ** loaded /usr/bin/../share/singular/LIB/ainvar.lib (4.1.2.0,Feb_2019)\n",
       "// ** loaded /usr/bin/../share/singular/LIB/absfact.lib (4.1.2.0,Feb_2019)\n",
       "   skipping text from `return` error at token `)`\n"
      ]
     },
     "execution_count": 2,
     "metadata": {},
     "output_type": "execute_result"
    }
   ],
   "source": [
    "LIB \"all.lib\""
   ]
  },
  {
   "cell_type": "markdown",
   "id": "7cb29cd7",
   "metadata": {},
   "source": [
    "Ahora, definimos nuestra localización."
   ]
  },
  {
   "cell_type": "code",
   "execution_count": 3,
   "id": "b69441e0",
   "metadata": {},
   "outputs": [],
   "source": [
    "ring R = (0,a,b),(x,y),dp;"
   ]
  },
  {
   "cell_type": "markdown",
   "id": "7fbb101c",
   "metadata": {},
   "source": [
    "Definimos nuestro polinomio para el ideal de Tjurina"
   ]
  },
  {
   "cell_type": "code",
   "execution_count": 4,
   "id": "a08bea3e",
   "metadata": {},
   "outputs": [],
   "source": [
    "poly f = y^5-x^7+a*x^3*y^3+b*x^4*y^4;"
   ]
  },
  {
   "cell_type": "markdown",
   "id": "e2b1b999",
   "metadata": {},
   "source": [
    "Definimos el ideal de Tjurina"
   ]
  },
  {
   "cell_type": "code",
   "execution_count": 5,
   "id": "2b44acf9",
   "metadata": {},
   "outputs": [
    {
     "data": {
      "text/plain": [
       "i[1]=(b)*x4y4-x7+(a)*x3y3+y5\n",
       "i[2]=(4b)*x3y4-7*x6+(3a)*x2y3\n",
       "i[3]=(4b)*x4y3+(3a)*x3y2+5*y4\n"
      ]
     },
     "execution_count": 5,
     "metadata": {},
     "output_type": "execute_result"
    }
   ],
   "source": [
    "ideal i = f,jacob(f); i;"
   ]
  },
  {
   "cell_type": "markdown",
   "id": "fc32ffa1",
   "metadata": {},
   "source": [
    "Calculamos la base estándar"
   ]
  },
  {
   "cell_type": "code",
   "execution_count": 6,
   "id": "65b6a4bd",
   "metadata": {
    "scrolled": true
   },
   "outputs": [
    {
     "data": {
      "text/plain": [
       "_[1]=y5\n",
       "_[2]=(180075a7)*x3y2+(19307236b)*y5+(300125a6)*y4\n",
       "_[3]=(49a)*x6+(52b)*y6+(-21a2)*x2y3\n"
      ]
     },
     "execution_count": 6,
     "metadata": {},
     "output_type": "execute_result"
    }
   ],
   "source": [
    "std(i);"
   ]
  },
  {
   "cell_type": "markdown",
   "id": "1dcd9dfe",
   "metadata": {},
   "source": [
    "Calculamos la forma normal del spoly de todos los pares"
   ]
  },
  {
   "cell_type": "code",
   "execution_count": 7,
   "id": "ccc22827",
   "metadata": {},
   "outputs": [
    {
     "data": {
      "text/plain": [
       "3/4*x7+(a)/4*x3y3+y5\n"
      ]
     },
     "execution_count": 7,
     "metadata": {},
     "output_type": "execute_result"
    }
   ],
   "source": [
    "poly h1 = reduce(spoly(i[1],i[2]),i); h1;"
   ]
  },
  {
   "cell_type": "code",
   "execution_count": 8,
   "id": "459d946c",
   "metadata": {},
   "outputs": [
    {
     "data": {
      "text/plain": [
       "-x7+(a)/4*x3y3-1/4*y5\n"
      ]
     },
     "execution_count": 8,
     "metadata": {},
     "output_type": "execute_result"
    }
   ],
   "source": [
    "poly h2 = reduce(spoly(i[1],i[3]),i); h2;"
   ]
  },
  {
   "cell_type": "code",
   "execution_count": 9,
   "id": "e23f3be3",
   "metadata": {},
   "outputs": [
    {
     "data": {
      "text/plain": [
       "-7*x7-5*y5\n"
      ]
     },
     "execution_count": 9,
     "metadata": {},
     "output_type": "execute_result"
    }
   ],
   "source": [
    "poly h3 = reduce(spoly(i[2],i[3]),i); h3;"
   ]
  },
  {
   "cell_type": "markdown",
   "id": "bf993464",
   "metadata": {},
   "source": [
    "Añadimos h1 al ideal"
   ]
  },
  {
   "cell_type": "code",
   "execution_count": 10,
   "id": "6c4200bf",
   "metadata": {},
   "outputs": [],
   "source": [
    "ideal i1 = i,h1;"
   ]
  },
  {
   "cell_type": "markdown",
   "id": "41a385bb",
   "metadata": {},
   "source": [
    "Mostramos los coeficientes líderes"
   ]
  },
  {
   "cell_type": "code",
   "execution_count": 11,
   "id": "b116c12d",
   "metadata": {},
   "outputs": [
    {
     "data": {
      "text/plain": [
       "_[1]=(b)*x4y4\n",
       "_[2]=(4b)*x3y4\n",
       "_[3]=(4b)*x4y3\n",
       "_[4]=3/4*x7\n"
      ]
     },
     "execution_count": 11,
     "metadata": {},
     "output_type": "execute_result"
    }
   ],
   "source": [
    "lead(i1);"
   ]
  },
  {
   "cell_type": "markdown",
   "id": "3587a653",
   "metadata": {},
   "source": [
    "Hacemos la forma normal del spoly de los pares de los nuevos ideales"
   ]
  },
  {
   "cell_type": "code",
   "execution_count": 12,
   "id": "0edac73b",
   "metadata": {},
   "outputs": [
    {
     "data": {
      "text/plain": [
       "0\n"
      ]
     },
     "execution_count": 12,
     "metadata": {},
     "output_type": "execute_result"
    }
   ],
   "source": [
    "poly h4 = reduce(spoly(i1[1],i1[2]),i1); h4;"
   ]
  },
  {
   "cell_type": "markdown",
   "id": "3f65c556",
   "metadata": {},
   "source": [
    "Al ser 0,  no continuamos con él."
   ]
  },
  {
   "cell_type": "code",
   "execution_count": 13,
   "id": "0da83982",
   "metadata": {},
   "outputs": [
    {
     "data": {
      "text/plain": [
       "(7a)/12*x3y3+13/12*y5\n"
      ]
     },
     "execution_count": 13,
     "metadata": {},
     "output_type": "execute_result"
    }
   ],
   "source": [
    "poly h5 = reduce(spoly(i1[1],i1[3]),i1); h5;"
   ]
  },
  {
   "cell_type": "code",
   "execution_count": 14,
   "id": "344e72b1",
   "metadata": {},
   "outputs": [],
   "source": [
    "ideal i2 = i1,h5;"
   ]
  },
  {
   "cell_type": "code",
   "execution_count": 15,
   "id": "ac17c54d",
   "metadata": {},
   "outputs": [
    {
     "data": {
      "text/plain": [
       "0\n"
      ]
     },
     "execution_count": 15,
     "metadata": {},
     "output_type": "execute_result"
    }
   ],
   "source": [
    "poly h6 = reduce(spoly(i2[1],i2[2]),i2); h6;"
   ]
  },
  {
   "cell_type": "code",
   "execution_count": 17,
   "id": "4d2cbc24",
   "metadata": {},
   "outputs": [
    {
     "data": {
      "text/plain": [
       "0\n"
      ]
     },
     "execution_count": 17,
     "metadata": {},
     "output_type": "execute_result"
    }
   ],
   "source": [
    "poly h6 = reduce(spoly(i2[1],i2[3]),i2); h6;"
   ]
  },
  {
   "cell_type": "code",
   "execution_count": 18,
   "id": "45eb2178",
   "metadata": {},
   "outputs": [
    {
     "data": {
      "text/plain": [
       "(-5b)/7*y9+13/(49a)*y7\n"
      ]
     },
     "execution_count": 18,
     "metadata": {},
     "output_type": "execute_result"
    }
   ],
   "source": [
    "poly h6 = reduce(spoly(i2[1],i2[4]),i2); h6;"
   ]
  }
 ],
 "metadata": {
  "kernelspec": {
   "display_name": "Singular",
   "language": "singular",
   "name": "singular"
  },
  "language_info": {
   "codemirror_mode": "singular",
   "file_extension": ".singular",
   "mimetype": "text/x-singular",
   "name": "Singular"
  }
 },
 "nbformat": 4,
 "nbformat_minor": 5
}
